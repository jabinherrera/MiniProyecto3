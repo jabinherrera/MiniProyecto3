{
 "cells": [
  {
   "cell_type": "markdown",
   "metadata": {},
   "source": [
    "#### Parte 1: Carga y Exploración de Datos"
   ]
  },
  {
   "cell_type": "markdown",
   "metadata": {},
   "source": [
    "**Carga del Conjunto de Datos**"
   ]
  },
  {
   "cell_type": "markdown",
   "metadata": {},
   "source": [
    "Instalar dependencias"
   ]
  },
  {
   "cell_type": "code",
   "execution_count": 18,
   "metadata": {},
   "outputs": [
    {
     "name": "stdout",
     "output_type": "stream",
     "text": [
      "Requirement already satisfied: pandas in c:\\users\\snipe\\appdata\\roaming\\python\\python312\\site-packages (2.2.3)Note: you may need to restart the kernel to use updated packages.\n",
      "\n",
      "Requirement already satisfied: numpy>=1.26.0 in c:\\users\\snipe\\miniforge3\\envs\\miniproyecto3\\lib\\site-packages (from pandas) (2.0.2)\n",
      "Requirement already satisfied: python-dateutil>=2.8.2 in c:\\users\\snipe\\appdata\\roaming\\python\\python312\\site-packages (from pandas) (2.9.0.post0)\n",
      "Requirement already satisfied: pytz>=2020.1 in c:\\users\\snipe\\appdata\\roaming\\python\\python312\\site-packages (from pandas) (2024.2)\n",
      "Requirement already satisfied: tzdata>=2022.7 in c:\\users\\snipe\\appdata\\roaming\\python\\python312\\site-packages (from pandas) (2024.2)\n",
      "Requirement already satisfied: six>=1.5 in c:\\users\\snipe\\appdata\\roaming\\python\\python312\\site-packages (from python-dateutil>=2.8.2->pandas) (1.16.0)\n",
      "Requirement already satisfied: db-dtypes in c:\\users\\snipe\\appdata\\roaming\\python\\python312\\site-packages (1.3.0)\n",
      "Requirement already satisfied: packaging>=17.0 in c:\\users\\snipe\\appdata\\roaming\\python\\python312\\site-packages (from db-dtypes) (24.1)\n",
      "Requirement already satisfied: pandas>=0.24.2 in c:\\users\\snipe\\appdata\\roaming\\python\\python312\\site-packages (from db-dtypes) (2.2.3)\n",
      "Requirement already satisfied: pyarrow>=3.0.0 in c:\\users\\snipe\\appdata\\roaming\\python\\python312\\site-packages (from db-dtypes) (17.0.0)\n",
      "Requirement already satisfied: numpy>=1.16.6 in c:\\users\\snipe\\miniforge3\\envs\\miniproyecto3\\lib\\site-packages (from db-dtypes) (2.0.2)\n",
      "Requirement already satisfied: python-dateutil>=2.8.2 in c:\\users\\snipe\\appdata\\roaming\\python\\python312\\site-packages (from pandas>=0.24.2->db-dtypes) (2.9.0.post0)\n",
      "Requirement already satisfied: pytz>=2020.1 in c:\\users\\snipe\\appdata\\roaming\\python\\python312\\site-packages (from pandas>=0.24.2->db-dtypes) (2024.2)\n",
      "Requirement already satisfied: tzdata>=2022.7 in c:\\users\\snipe\\appdata\\roaming\\python\\python312\\site-packages (from pandas>=0.24.2->db-dtypes) (2024.2)\n",
      "Requirement already satisfied: six>=1.5 in c:\\users\\snipe\\appdata\\roaming\\python\\python312\\site-packages (from python-dateutil>=2.8.2->pandas>=0.24.2->db-dtypes) (1.16.0)\n",
      "Note: you may need to restart the kernel to use updated packages.\n"
     ]
    }
   ],
   "source": [
    "%pip install pandas\n",
    "%pip install db-dtypes"
   ]
  },
  {
   "cell_type": "markdown",
   "metadata": {},
   "source": [
    "Importar pandas e importar el dataset"
   ]
  },
  {
   "cell_type": "code",
   "execution_count": 19,
   "metadata": {},
   "outputs": [
    {
     "data": {
      "text/html": [
       "<div>\n",
       "<style scoped>\n",
       "    .dataframe tbody tr th:only-of-type {\n",
       "        vertical-align: middle;\n",
       "    }\n",
       "\n",
       "    .dataframe tbody tr th {\n",
       "        vertical-align: top;\n",
       "    }\n",
       "\n",
       "    .dataframe thead th {\n",
       "        text-align: right;\n",
       "    }\n",
       "</style>\n",
       "<table border=\"1\" class=\"dataframe\">\n",
       "  <thead>\n",
       "    <tr style=\"text-align: right;\">\n",
       "      <th></th>\n",
       "      <th>productAsin</th>\n",
       "      <th>country</th>\n",
       "      <th>date</th>\n",
       "      <th>isVerified</th>\n",
       "      <th>ratingScore</th>\n",
       "      <th>reviewTitle</th>\n",
       "      <th>reviewDescription</th>\n",
       "      <th>reviewUrl</th>\n",
       "      <th>reviewedIn</th>\n",
       "      <th>variant</th>\n",
       "      <th>variantAsin</th>\n",
       "    </tr>\n",
       "  </thead>\n",
       "  <tbody>\n",
       "    <tr>\n",
       "      <th>0</th>\n",
       "      <td>B09G9BL5CP</td>\n",
       "      <td>India</td>\n",
       "      <td>11-08-2024</td>\n",
       "      <td>True</td>\n",
       "      <td>4</td>\n",
       "      <td>No charger</td>\n",
       "      <td>Every thing is good about iPhones, there's not...</td>\n",
       "      <td>https://www.amazon.in/gp/customer-reviews/R345...</td>\n",
       "      <td>Reviewed in India on 11 August 2024</td>\n",
       "      <td>Colour: MidnightSize: 256 GB</td>\n",
       "      <td>B09G9BQS98</td>\n",
       "    </tr>\n",
       "    <tr>\n",
       "      <th>1</th>\n",
       "      <td>B09G9BL5CP</td>\n",
       "      <td>India</td>\n",
       "      <td>16-08-2024</td>\n",
       "      <td>True</td>\n",
       "      <td>5</td>\n",
       "      <td>iPhone 13 256GB</td>\n",
       "      <td>It look so fabulous, I am android user switche...</td>\n",
       "      <td>https://www.amazon.in/gp/customer-reviews/R2HJ...</td>\n",
       "      <td>Reviewed in India on 16 August 2024</td>\n",
       "      <td>Colour: MidnightSize: 256 GB</td>\n",
       "      <td>B09G9BQS98</td>\n",
       "    </tr>\n",
       "    <tr>\n",
       "      <th>2</th>\n",
       "      <td>B09G9BL5CP</td>\n",
       "      <td>India</td>\n",
       "      <td>14-05-2024</td>\n",
       "      <td>True</td>\n",
       "      <td>4</td>\n",
       "      <td>Flip camera option nill</td>\n",
       "      <td>I tried to flip camera while recording but no ...</td>\n",
       "      <td>https://www.amazon.in/gp/customer-reviews/R3Y7...</td>\n",
       "      <td>Reviewed in India on 14 May 2024</td>\n",
       "      <td>Colour: MidnightSize: 256 GB</td>\n",
       "      <td>B09G9BQS98</td>\n",
       "    </tr>\n",
       "    <tr>\n",
       "      <th>3</th>\n",
       "      <td>B09G9BL5CP</td>\n",
       "      <td>India</td>\n",
       "      <td>24-06-2024</td>\n",
       "      <td>True</td>\n",
       "      <td>5</td>\n",
       "      <td>Product</td>\n",
       "      <td>100% genuine</td>\n",
       "      <td>https://www.amazon.in/gp/customer-reviews/R1P9...</td>\n",
       "      <td>Reviewed in India on 24 June 2024</td>\n",
       "      <td>Colour: MidnightSize: 256 GB</td>\n",
       "      <td>B09G9BQS98</td>\n",
       "    </tr>\n",
       "    <tr>\n",
       "      <th>4</th>\n",
       "      <td>B09G9BL5CP</td>\n",
       "      <td>India</td>\n",
       "      <td>18-05-2024</td>\n",
       "      <td>True</td>\n",
       "      <td>5</td>\n",
       "      <td>Good product</td>\n",
       "      <td>Happy to get the iPhone 13 in Amazon offer</td>\n",
       "      <td>https://www.amazon.in/gp/customer-reviews/R1XI...</td>\n",
       "      <td>Reviewed in India on 18 May 2024</td>\n",
       "      <td>Colour: MidnightSize: 256 GB</td>\n",
       "      <td>B09G9BQS98</td>\n",
       "    </tr>\n",
       "    <tr>\n",
       "      <th>...</th>\n",
       "      <td>...</td>\n",
       "      <td>...</td>\n",
       "      <td>...</td>\n",
       "      <td>...</td>\n",
       "      <td>...</td>\n",
       "      <td>...</td>\n",
       "      <td>...</td>\n",
       "      <td>...</td>\n",
       "      <td>...</td>\n",
       "      <td>...</td>\n",
       "      <td>...</td>\n",
       "    </tr>\n",
       "    <tr>\n",
       "      <th>3057</th>\n",
       "      <td>B09G9D8KRQ</td>\n",
       "      <td>India</td>\n",
       "      <td>11-10-2023</td>\n",
       "      <td>True</td>\n",
       "      <td>1</td>\n",
       "      <td>Very bad experience with i phone 13</td>\n",
       "      <td>Useless phon never buy this heat n useless cam...</td>\n",
       "      <td>https://www.amazon.in/gp/customer-reviews/R10O...</td>\n",
       "      <td>Reviewed in India on 11 October 2023</td>\n",
       "      <td>Colour: (PRODUCT) REDSize: 128 GB</td>\n",
       "      <td>B09G99CW2N</td>\n",
       "    </tr>\n",
       "    <tr>\n",
       "      <th>3058</th>\n",
       "      <td>B09G9D8KRQ</td>\n",
       "      <td>India</td>\n",
       "      <td>14-10-2022</td>\n",
       "      <td>True</td>\n",
       "      <td>2</td>\n",
       "      <td>not happy with this apple product</td>\n",
       "      <td>iam not happy with this product why because ch...</td>\n",
       "      <td>https://www.amazon.in/gp/customer-reviews/R2FW...</td>\n",
       "      <td>Reviewed in India on 14 October 2022</td>\n",
       "      <td>Colour: (PRODUCT) REDSize: 128 GB</td>\n",
       "      <td>B09G99CW2N</td>\n",
       "    </tr>\n",
       "    <tr>\n",
       "      <th>3059</th>\n",
       "      <td>B09G9D8KRQ</td>\n",
       "      <td>India</td>\n",
       "      <td>24-02-2022</td>\n",
       "      <td>True</td>\n",
       "      <td>3</td>\n",
       "      <td>Good phone</td>\n",
       "      <td>Good phone</td>\n",
       "      <td>https://www.amazon.in/gp/customer-reviews/R2C7...</td>\n",
       "      <td>Reviewed in India on 24 February 2022</td>\n",
       "      <td>Colour: (PRODUCT) REDSize: 128 GB</td>\n",
       "      <td>B09G99CW2N</td>\n",
       "    </tr>\n",
       "    <tr>\n",
       "      <th>3060</th>\n",
       "      <td>B09G9D8KRQ</td>\n",
       "      <td>India</td>\n",
       "      <td>16-10-2023</td>\n",
       "      <td>True</td>\n",
       "      <td>1</td>\n",
       "      <td>Battery discharge</td>\n",
       "      <td>While charging mobile it's getting so hot even...</td>\n",
       "      <td>https://www.amazon.in/gp/customer-reviews/R3K0...</td>\n",
       "      <td>Reviewed in India on 16 October 2023</td>\n",
       "      <td>Colour: (PRODUCT) REDSize: 128 GB</td>\n",
       "      <td>B09G99CW2N</td>\n",
       "    </tr>\n",
       "    <tr>\n",
       "      <th>3061</th>\n",
       "      <td>B09G9D8KRQ</td>\n",
       "      <td>India</td>\n",
       "      <td>11-11-2023</td>\n",
       "      <td>True</td>\n",
       "      <td>1</td>\n",
       "      <td>Batter power needs to be improved</td>\n",
       "      <td>Battery power is be very bad need to chat on d...</td>\n",
       "      <td>https://www.amazon.in/gp/customer-reviews/R2QO...</td>\n",
       "      <td>Reviewed in India on 11 November 2023</td>\n",
       "      <td>Colour: (PRODUCT) REDSize: 128 GB</td>\n",
       "      <td>B09G99CW2N</td>\n",
       "    </tr>\n",
       "  </tbody>\n",
       "</table>\n",
       "<p>3062 rows × 11 columns</p>\n",
       "</div>"
      ],
      "text/plain": [
       "     productAsin country        date  isVerified  ratingScore  \\\n",
       "0     B09G9BL5CP   India  11-08-2024        True            4   \n",
       "1     B09G9BL5CP   India  16-08-2024        True            5   \n",
       "2     B09G9BL5CP   India  14-05-2024        True            4   \n",
       "3     B09G9BL5CP   India  24-06-2024        True            5   \n",
       "4     B09G9BL5CP   India  18-05-2024        True            5   \n",
       "...          ...     ...         ...         ...          ...   \n",
       "3057  B09G9D8KRQ   India  11-10-2023        True            1   \n",
       "3058  B09G9D8KRQ   India  14-10-2022        True            2   \n",
       "3059  B09G9D8KRQ   India  24-02-2022        True            3   \n",
       "3060  B09G9D8KRQ   India  16-10-2023        True            1   \n",
       "3061  B09G9D8KRQ   India  11-11-2023        True            1   \n",
       "\n",
       "                              reviewTitle  \\\n",
       "0                              No charger   \n",
       "1                         iPhone 13 256GB   \n",
       "2                 Flip camera option nill   \n",
       "3                                 Product   \n",
       "4                            Good product   \n",
       "...                                   ...   \n",
       "3057  Very bad experience with i phone 13   \n",
       "3058    not happy with this apple product   \n",
       "3059                           Good phone   \n",
       "3060                    Battery discharge   \n",
       "3061    Batter power needs to be improved   \n",
       "\n",
       "                                      reviewDescription  \\\n",
       "0     Every thing is good about iPhones, there's not...   \n",
       "1     It look so fabulous, I am android user switche...   \n",
       "2     I tried to flip camera while recording but no ...   \n",
       "3                                          100% genuine   \n",
       "4            Happy to get the iPhone 13 in Amazon offer   \n",
       "...                                                 ...   \n",
       "3057  Useless phon never buy this heat n useless cam...   \n",
       "3058  iam not happy with this product why because ch...   \n",
       "3059                                         Good phone   \n",
       "3060  While charging mobile it's getting so hot even...   \n",
       "3061  Battery power is be very bad need to chat on d...   \n",
       "\n",
       "                                              reviewUrl  \\\n",
       "0     https://www.amazon.in/gp/customer-reviews/R345...   \n",
       "1     https://www.amazon.in/gp/customer-reviews/R2HJ...   \n",
       "2     https://www.amazon.in/gp/customer-reviews/R3Y7...   \n",
       "3     https://www.amazon.in/gp/customer-reviews/R1P9...   \n",
       "4     https://www.amazon.in/gp/customer-reviews/R1XI...   \n",
       "...                                                 ...   \n",
       "3057  https://www.amazon.in/gp/customer-reviews/R10O...   \n",
       "3058  https://www.amazon.in/gp/customer-reviews/R2FW...   \n",
       "3059  https://www.amazon.in/gp/customer-reviews/R2C7...   \n",
       "3060  https://www.amazon.in/gp/customer-reviews/R3K0...   \n",
       "3061  https://www.amazon.in/gp/customer-reviews/R2QO...   \n",
       "\n",
       "                                 reviewedIn  \\\n",
       "0       Reviewed in India on 11 August 2024   \n",
       "1       Reviewed in India on 16 August 2024   \n",
       "2          Reviewed in India on 14 May 2024   \n",
       "3         Reviewed in India on 24 June 2024   \n",
       "4          Reviewed in India on 18 May 2024   \n",
       "...                                     ...   \n",
       "3057   Reviewed in India on 11 October 2023   \n",
       "3058   Reviewed in India on 14 October 2022   \n",
       "3059  Reviewed in India on 24 February 2022   \n",
       "3060   Reviewed in India on 16 October 2023   \n",
       "3061  Reviewed in India on 11 November 2023   \n",
       "\n",
       "                                variant variantAsin  \n",
       "0          Colour: MidnightSize: 256 GB  B09G9BQS98  \n",
       "1          Colour: MidnightSize: 256 GB  B09G9BQS98  \n",
       "2          Colour: MidnightSize: 256 GB  B09G9BQS98  \n",
       "3          Colour: MidnightSize: 256 GB  B09G9BQS98  \n",
       "4          Colour: MidnightSize: 256 GB  B09G9BQS98  \n",
       "...                                 ...         ...  \n",
       "3057  Colour: (PRODUCT) REDSize: 128 GB  B09G99CW2N  \n",
       "3058  Colour: (PRODUCT) REDSize: 128 GB  B09G99CW2N  \n",
       "3059  Colour: (PRODUCT) REDSize: 128 GB  B09G99CW2N  \n",
       "3060  Colour: (PRODUCT) REDSize: 128 GB  B09G99CW2N  \n",
       "3061  Colour: (PRODUCT) REDSize: 128 GB  B09G99CW2N  \n",
       "\n",
       "[3062 rows x 11 columns]"
      ]
     },
     "execution_count": 19,
     "metadata": {},
     "output_type": "execute_result"
    }
   ],
   "source": [
    "import pandas as pd\n",
    "\n",
    "data_path=\"../data/datos.csv\"\n",
    "\n",
    "df =pd.read_csv(data_path)\n",
    "df"
   ]
  },
  {
   "cell_type": "markdown",
   "metadata": {},
   "source": [
    "Se identifican las columnas reviewDescription que contiene el texto de la reseña y ratingScore que indica la valoracion, segun la valoracion podemos identificar si la reseña es positiva o negativa."
   ]
  },
  {
   "cell_type": "markdown",
   "metadata": {},
   "source": [
    "**Descripción Inicial de los Datos**"
   ]
  },
  {
   "cell_type": "markdown",
   "metadata": {},
   "source": [
    "Se cuenta la cantidad de reseñas presentes"
   ]
  },
  {
   "cell_type": "code",
   "execution_count": 20,
   "metadata": {},
   "outputs": [
    {
     "name": "stdout",
     "output_type": "stream",
     "text": [
      "El DataFrame tiene 3062 filas.\n"
     ]
    }
   ],
   "source": [
    "num_filas = df.shape[0]\n",
    "print(f\"El DataFrame tiene {num_filas} filas.\")"
   ]
  },
  {
   "cell_type": "markdown",
   "metadata": {},
   "source": [
    "El dataframe tiene  3062 reseñas"
   ]
  },
  {
   "cell_type": "markdown",
   "metadata": {},
   "source": [
    "Ahora veremos si hay mas reseñas positivas o negativas. En nuestro caso, basado en la columna **ratingScore**, positivo sera mayor que 3 y menor o igual a 3 sera negativo. Para diferenciarlo mejor, añadiremos una columna booleana que contendra un *Positive* o *Negative*."
   ]
  },
  {
   "cell_type": "code",
   "execution_count": 21,
   "metadata": {},
   "outputs": [
    {
     "data": {
      "text/html": [
       "<div>\n",
       "<style scoped>\n",
       "    .dataframe tbody tr th:only-of-type {\n",
       "        vertical-align: middle;\n",
       "    }\n",
       "\n",
       "    .dataframe tbody tr th {\n",
       "        vertical-align: top;\n",
       "    }\n",
       "\n",
       "    .dataframe thead th {\n",
       "        text-align: right;\n",
       "    }\n",
       "</style>\n",
       "<table border=\"1\" class=\"dataframe\">\n",
       "  <thead>\n",
       "    <tr style=\"text-align: right;\">\n",
       "      <th></th>\n",
       "      <th>productAsin</th>\n",
       "      <th>country</th>\n",
       "      <th>date</th>\n",
       "      <th>isVerified</th>\n",
       "      <th>ratingScore</th>\n",
       "      <th>reviewTitle</th>\n",
       "      <th>reviewDescription</th>\n",
       "      <th>reviewUrl</th>\n",
       "      <th>reviewedIn</th>\n",
       "      <th>variant</th>\n",
       "      <th>variantAsin</th>\n",
       "      <th>ratingPositive</th>\n",
       "    </tr>\n",
       "  </thead>\n",
       "  <tbody>\n",
       "    <tr>\n",
       "      <th>0</th>\n",
       "      <td>B09G9BL5CP</td>\n",
       "      <td>India</td>\n",
       "      <td>11-08-2024</td>\n",
       "      <td>True</td>\n",
       "      <td>4</td>\n",
       "      <td>No charger</td>\n",
       "      <td>Every thing is good about iPhones, there's not...</td>\n",
       "      <td>https://www.amazon.in/gp/customer-reviews/R345...</td>\n",
       "      <td>Reviewed in India on 11 August 2024</td>\n",
       "      <td>Colour: MidnightSize: 256 GB</td>\n",
       "      <td>B09G9BQS98</td>\n",
       "      <td>Positive</td>\n",
       "    </tr>\n",
       "    <tr>\n",
       "      <th>1</th>\n",
       "      <td>B09G9BL5CP</td>\n",
       "      <td>India</td>\n",
       "      <td>16-08-2024</td>\n",
       "      <td>True</td>\n",
       "      <td>5</td>\n",
       "      <td>iPhone 13 256GB</td>\n",
       "      <td>It look so fabulous, I am android user switche...</td>\n",
       "      <td>https://www.amazon.in/gp/customer-reviews/R2HJ...</td>\n",
       "      <td>Reviewed in India on 16 August 2024</td>\n",
       "      <td>Colour: MidnightSize: 256 GB</td>\n",
       "      <td>B09G9BQS98</td>\n",
       "      <td>Positive</td>\n",
       "    </tr>\n",
       "    <tr>\n",
       "      <th>2</th>\n",
       "      <td>B09G9BL5CP</td>\n",
       "      <td>India</td>\n",
       "      <td>14-05-2024</td>\n",
       "      <td>True</td>\n",
       "      <td>4</td>\n",
       "      <td>Flip camera option nill</td>\n",
       "      <td>I tried to flip camera while recording but no ...</td>\n",
       "      <td>https://www.amazon.in/gp/customer-reviews/R3Y7...</td>\n",
       "      <td>Reviewed in India on 14 May 2024</td>\n",
       "      <td>Colour: MidnightSize: 256 GB</td>\n",
       "      <td>B09G9BQS98</td>\n",
       "      <td>Positive</td>\n",
       "    </tr>\n",
       "    <tr>\n",
       "      <th>3</th>\n",
       "      <td>B09G9BL5CP</td>\n",
       "      <td>India</td>\n",
       "      <td>24-06-2024</td>\n",
       "      <td>True</td>\n",
       "      <td>5</td>\n",
       "      <td>Product</td>\n",
       "      <td>100% genuine</td>\n",
       "      <td>https://www.amazon.in/gp/customer-reviews/R1P9...</td>\n",
       "      <td>Reviewed in India on 24 June 2024</td>\n",
       "      <td>Colour: MidnightSize: 256 GB</td>\n",
       "      <td>B09G9BQS98</td>\n",
       "      <td>Positive</td>\n",
       "    </tr>\n",
       "    <tr>\n",
       "      <th>4</th>\n",
       "      <td>B09G9BL5CP</td>\n",
       "      <td>India</td>\n",
       "      <td>18-05-2024</td>\n",
       "      <td>True</td>\n",
       "      <td>5</td>\n",
       "      <td>Good product</td>\n",
       "      <td>Happy to get the iPhone 13 in Amazon offer</td>\n",
       "      <td>https://www.amazon.in/gp/customer-reviews/R1XI...</td>\n",
       "      <td>Reviewed in India on 18 May 2024</td>\n",
       "      <td>Colour: MidnightSize: 256 GB</td>\n",
       "      <td>B09G9BQS98</td>\n",
       "      <td>Positive</td>\n",
       "    </tr>\n",
       "    <tr>\n",
       "      <th>...</th>\n",
       "      <td>...</td>\n",
       "      <td>...</td>\n",
       "      <td>...</td>\n",
       "      <td>...</td>\n",
       "      <td>...</td>\n",
       "      <td>...</td>\n",
       "      <td>...</td>\n",
       "      <td>...</td>\n",
       "      <td>...</td>\n",
       "      <td>...</td>\n",
       "      <td>...</td>\n",
       "      <td>...</td>\n",
       "    </tr>\n",
       "    <tr>\n",
       "      <th>3057</th>\n",
       "      <td>B09G9D8KRQ</td>\n",
       "      <td>India</td>\n",
       "      <td>11-10-2023</td>\n",
       "      <td>True</td>\n",
       "      <td>1</td>\n",
       "      <td>Very bad experience with i phone 13</td>\n",
       "      <td>Useless phon never buy this heat n useless cam...</td>\n",
       "      <td>https://www.amazon.in/gp/customer-reviews/R10O...</td>\n",
       "      <td>Reviewed in India on 11 October 2023</td>\n",
       "      <td>Colour: (PRODUCT) REDSize: 128 GB</td>\n",
       "      <td>B09G99CW2N</td>\n",
       "      <td>Negative</td>\n",
       "    </tr>\n",
       "    <tr>\n",
       "      <th>3058</th>\n",
       "      <td>B09G9D8KRQ</td>\n",
       "      <td>India</td>\n",
       "      <td>14-10-2022</td>\n",
       "      <td>True</td>\n",
       "      <td>2</td>\n",
       "      <td>not happy with this apple product</td>\n",
       "      <td>iam not happy with this product why because ch...</td>\n",
       "      <td>https://www.amazon.in/gp/customer-reviews/R2FW...</td>\n",
       "      <td>Reviewed in India on 14 October 2022</td>\n",
       "      <td>Colour: (PRODUCT) REDSize: 128 GB</td>\n",
       "      <td>B09G99CW2N</td>\n",
       "      <td>Negative</td>\n",
       "    </tr>\n",
       "    <tr>\n",
       "      <th>3059</th>\n",
       "      <td>B09G9D8KRQ</td>\n",
       "      <td>India</td>\n",
       "      <td>24-02-2022</td>\n",
       "      <td>True</td>\n",
       "      <td>3</td>\n",
       "      <td>Good phone</td>\n",
       "      <td>Good phone</td>\n",
       "      <td>https://www.amazon.in/gp/customer-reviews/R2C7...</td>\n",
       "      <td>Reviewed in India on 24 February 2022</td>\n",
       "      <td>Colour: (PRODUCT) REDSize: 128 GB</td>\n",
       "      <td>B09G99CW2N</td>\n",
       "      <td>Negative</td>\n",
       "    </tr>\n",
       "    <tr>\n",
       "      <th>3060</th>\n",
       "      <td>B09G9D8KRQ</td>\n",
       "      <td>India</td>\n",
       "      <td>16-10-2023</td>\n",
       "      <td>True</td>\n",
       "      <td>1</td>\n",
       "      <td>Battery discharge</td>\n",
       "      <td>While charging mobile it's getting so hot even...</td>\n",
       "      <td>https://www.amazon.in/gp/customer-reviews/R3K0...</td>\n",
       "      <td>Reviewed in India on 16 October 2023</td>\n",
       "      <td>Colour: (PRODUCT) REDSize: 128 GB</td>\n",
       "      <td>B09G99CW2N</td>\n",
       "      <td>Negative</td>\n",
       "    </tr>\n",
       "    <tr>\n",
       "      <th>3061</th>\n",
       "      <td>B09G9D8KRQ</td>\n",
       "      <td>India</td>\n",
       "      <td>11-11-2023</td>\n",
       "      <td>True</td>\n",
       "      <td>1</td>\n",
       "      <td>Batter power needs to be improved</td>\n",
       "      <td>Battery power is be very bad need to chat on d...</td>\n",
       "      <td>https://www.amazon.in/gp/customer-reviews/R2QO...</td>\n",
       "      <td>Reviewed in India on 11 November 2023</td>\n",
       "      <td>Colour: (PRODUCT) REDSize: 128 GB</td>\n",
       "      <td>B09G99CW2N</td>\n",
       "      <td>Negative</td>\n",
       "    </tr>\n",
       "  </tbody>\n",
       "</table>\n",
       "<p>3062 rows × 12 columns</p>\n",
       "</div>"
      ],
      "text/plain": [
       "     productAsin country        date  isVerified  ratingScore  \\\n",
       "0     B09G9BL5CP   India  11-08-2024        True            4   \n",
       "1     B09G9BL5CP   India  16-08-2024        True            5   \n",
       "2     B09G9BL5CP   India  14-05-2024        True            4   \n",
       "3     B09G9BL5CP   India  24-06-2024        True            5   \n",
       "4     B09G9BL5CP   India  18-05-2024        True            5   \n",
       "...          ...     ...         ...         ...          ...   \n",
       "3057  B09G9D8KRQ   India  11-10-2023        True            1   \n",
       "3058  B09G9D8KRQ   India  14-10-2022        True            2   \n",
       "3059  B09G9D8KRQ   India  24-02-2022        True            3   \n",
       "3060  B09G9D8KRQ   India  16-10-2023        True            1   \n",
       "3061  B09G9D8KRQ   India  11-11-2023        True            1   \n",
       "\n",
       "                              reviewTitle  \\\n",
       "0                              No charger   \n",
       "1                         iPhone 13 256GB   \n",
       "2                 Flip camera option nill   \n",
       "3                                 Product   \n",
       "4                            Good product   \n",
       "...                                   ...   \n",
       "3057  Very bad experience with i phone 13   \n",
       "3058    not happy with this apple product   \n",
       "3059                           Good phone   \n",
       "3060                    Battery discharge   \n",
       "3061    Batter power needs to be improved   \n",
       "\n",
       "                                      reviewDescription  \\\n",
       "0     Every thing is good about iPhones, there's not...   \n",
       "1     It look so fabulous, I am android user switche...   \n",
       "2     I tried to flip camera while recording but no ...   \n",
       "3                                          100% genuine   \n",
       "4            Happy to get the iPhone 13 in Amazon offer   \n",
       "...                                                 ...   \n",
       "3057  Useless phon never buy this heat n useless cam...   \n",
       "3058  iam not happy with this product why because ch...   \n",
       "3059                                         Good phone   \n",
       "3060  While charging mobile it's getting so hot even...   \n",
       "3061  Battery power is be very bad need to chat on d...   \n",
       "\n",
       "                                              reviewUrl  \\\n",
       "0     https://www.amazon.in/gp/customer-reviews/R345...   \n",
       "1     https://www.amazon.in/gp/customer-reviews/R2HJ...   \n",
       "2     https://www.amazon.in/gp/customer-reviews/R3Y7...   \n",
       "3     https://www.amazon.in/gp/customer-reviews/R1P9...   \n",
       "4     https://www.amazon.in/gp/customer-reviews/R1XI...   \n",
       "...                                                 ...   \n",
       "3057  https://www.amazon.in/gp/customer-reviews/R10O...   \n",
       "3058  https://www.amazon.in/gp/customer-reviews/R2FW...   \n",
       "3059  https://www.amazon.in/gp/customer-reviews/R2C7...   \n",
       "3060  https://www.amazon.in/gp/customer-reviews/R3K0...   \n",
       "3061  https://www.amazon.in/gp/customer-reviews/R2QO...   \n",
       "\n",
       "                                 reviewedIn  \\\n",
       "0       Reviewed in India on 11 August 2024   \n",
       "1       Reviewed in India on 16 August 2024   \n",
       "2          Reviewed in India on 14 May 2024   \n",
       "3         Reviewed in India on 24 June 2024   \n",
       "4          Reviewed in India on 18 May 2024   \n",
       "...                                     ...   \n",
       "3057   Reviewed in India on 11 October 2023   \n",
       "3058   Reviewed in India on 14 October 2022   \n",
       "3059  Reviewed in India on 24 February 2022   \n",
       "3060   Reviewed in India on 16 October 2023   \n",
       "3061  Reviewed in India on 11 November 2023   \n",
       "\n",
       "                                variant variantAsin ratingPositive  \n",
       "0          Colour: MidnightSize: 256 GB  B09G9BQS98       Positive  \n",
       "1          Colour: MidnightSize: 256 GB  B09G9BQS98       Positive  \n",
       "2          Colour: MidnightSize: 256 GB  B09G9BQS98       Positive  \n",
       "3          Colour: MidnightSize: 256 GB  B09G9BQS98       Positive  \n",
       "4          Colour: MidnightSize: 256 GB  B09G9BQS98       Positive  \n",
       "...                                 ...         ...            ...  \n",
       "3057  Colour: (PRODUCT) REDSize: 128 GB  B09G99CW2N       Negative  \n",
       "3058  Colour: (PRODUCT) REDSize: 128 GB  B09G99CW2N       Negative  \n",
       "3059  Colour: (PRODUCT) REDSize: 128 GB  B09G99CW2N       Negative  \n",
       "3060  Colour: (PRODUCT) REDSize: 128 GB  B09G99CW2N       Negative  \n",
       "3061  Colour: (PRODUCT) REDSize: 128 GB  B09G99CW2N       Negative  \n",
       "\n",
       "[3062 rows x 12 columns]"
      ]
     },
     "execution_count": 21,
     "metadata": {},
     "output_type": "execute_result"
    }
   ],
   "source": [
    "df['ratingPositive'] = df['ratingScore'].apply(lambda x: 'Positive' if x > 3 else 'Negative')\n",
    "\n",
    "df.to_csv(\"../data/datosConColumnaPositivos.csv\",index=False)\n",
    "df"
   ]
  },
  {
   "cell_type": "markdown",
   "metadata": {},
   "source": [
    "Contamos la cantidad de *Positive* y *Negative*"
   ]
  },
  {
   "cell_type": "code",
   "execution_count": 22,
   "metadata": {},
   "outputs": [
    {
     "name": "stdout",
     "output_type": "stream",
     "text": [
      "ratingPositive\n",
      "Positive    2065\n",
      "Negative     997\n",
      "Name: count, dtype: int64\n"
     ]
    }
   ],
   "source": [
    "conteo_positivos_negativos = df['ratingPositive'].value_counts()\n",
    "\n",
    "print(conteo_positivos_negativos)"
   ]
  },
  {
   "cell_type": "markdown",
   "metadata": {},
   "source": [
    "Hay 2065 reseñas positivas y 997 negativas."
   ]
  },
  {
   "cell_type": "markdown",
   "metadata": {},
   "source": [
    "#### Parte 2: Preprocesamiento de Texto"
   ]
  },
  {
   "cell_type": "markdown",
   "metadata": {},
   "source": [
    "**Preprocesamiento del Texto**"
   ]
  },
  {
   "cell_type": "markdown",
   "metadata": {},
   "source": [
    "Instalar spacy"
   ]
  },
  {
   "cell_type": "code",
   "execution_count": 23,
   "metadata": {},
   "outputs": [
    {
     "name": "stdout",
     "output_type": "stream",
     "text": [
      "Requirement already satisfied: nltk in c:\\users\\snipe\\miniforge3\\envs\\miniproyecto3\\lib\\site-packages (3.9.1)\n",
      "Requirement already satisfied: click in c:\\users\\snipe\\miniforge3\\envs\\miniproyecto3\\lib\\site-packages (from nltk) (8.1.7)\n",
      "Requirement already satisfied: joblib in c:\\users\\snipe\\miniforge3\\envs\\miniproyecto3\\lib\\site-packages (from nltk) (1.4.2)\n",
      "Requirement already satisfied: regex>=2021.8.3 in c:\\users\\snipe\\miniforge3\\envs\\miniproyecto3\\lib\\site-packages (from nltk) (2024.9.11)\n",
      "Requirement already satisfied: tqdm in c:\\users\\snipe\\miniforge3\\envs\\miniproyecto3\\lib\\site-packages (from nltk) (4.66.5)\n",
      "Requirement already satisfied: colorama in c:\\users\\snipe\\appdata\\roaming\\python\\python312\\site-packages (from click->nltk) (0.4.6)\n",
      "Note: you may need to restart the kernel to use updated packages.\n",
      "Requirement already satisfied: spacy in c:\\users\\snipe\\miniforge3\\envs\\miniproyecto3\\lib\\site-packages (3.8.2)\n",
      "Requirement already satisfied: spacy-legacy<3.1.0,>=3.0.11 in c:\\users\\snipe\\miniforge3\\envs\\miniproyecto3\\lib\\site-packages (from spacy) (3.0.12)\n",
      "Requirement already satisfied: spacy-loggers<2.0.0,>=1.0.0 in c:\\users\\snipe\\miniforge3\\envs\\miniproyecto3\\lib\\site-packages (from spacy) (1.0.5)\n",
      "Requirement already satisfied: murmurhash<1.1.0,>=0.28.0 in c:\\users\\snipe\\miniforge3\\envs\\miniproyecto3\\lib\\site-packages (from spacy) (1.0.10)\n",
      "Requirement already satisfied: cymem<2.1.0,>=2.0.2 in c:\\users\\snipe\\miniforge3\\envs\\miniproyecto3\\lib\\site-packages (from spacy) (2.0.8)\n",
      "Requirement already satisfied: preshed<3.1.0,>=3.0.2 in c:\\users\\snipe\\miniforge3\\envs\\miniproyecto3\\lib\\site-packages (from spacy) (3.0.9)\n",
      "Requirement already satisfied: thinc<8.4.0,>=8.3.0 in c:\\users\\snipe\\miniforge3\\envs\\miniproyecto3\\lib\\site-packages (from spacy) (8.3.2)\n",
      "Requirement already satisfied: wasabi<1.2.0,>=0.9.1 in c:\\users\\snipe\\miniforge3\\envs\\miniproyecto3\\lib\\site-packages (from spacy) (1.1.3)\n",
      "Requirement already satisfied: srsly<3.0.0,>=2.4.3 in c:\\users\\snipe\\miniforge3\\envs\\miniproyecto3\\lib\\site-packages (from spacy) (2.4.8)\n",
      "Requirement already satisfied: catalogue<2.1.0,>=2.0.6 in c:\\users\\snipe\\miniforge3\\envs\\miniproyecto3\\lib\\site-packages (from spacy) (2.0.10)\n",
      "Requirement already satisfied: weasel<0.5.0,>=0.1.0 in c:\\users\\snipe\\miniforge3\\envs\\miniproyecto3\\lib\\site-packages (from spacy) (0.4.1)\n",
      "Requirement already satisfied: typer<1.0.0,>=0.3.0 in c:\\users\\snipe\\miniforge3\\envs\\miniproyecto3\\lib\\site-packages (from spacy) (0.12.5)\n",
      "Requirement already satisfied: tqdm<5.0.0,>=4.38.0 in c:\\users\\snipe\\miniforge3\\envs\\miniproyecto3\\lib\\site-packages (from spacy) (4.66.5)\n",
      "Requirement already satisfied: requests<3.0.0,>=2.13.0 in c:\\users\\snipe\\appdata\\roaming\\python\\python312\\site-packages (from spacy) (2.32.3)\n",
      "Requirement already satisfied: pydantic!=1.8,!=1.8.1,<3.0.0,>=1.7.4 in c:\\users\\snipe\\miniforge3\\envs\\miniproyecto3\\lib\\site-packages (from spacy) (2.9.2)\n",
      "Requirement already satisfied: jinja2 in c:\\users\\snipe\\appdata\\roaming\\python\\python312\\site-packages (from spacy) (3.1.4)\n",
      "Requirement already satisfied: setuptools in c:\\users\\snipe\\appdata\\roaming\\python\\python312\\site-packages (from spacy) (74.1.1)\n",
      "Requirement already satisfied: packaging>=20.0 in c:\\users\\snipe\\appdata\\roaming\\python\\python312\\site-packages (from spacy) (24.1)\n",
      "Requirement already satisfied: langcodes<4.0.0,>=3.2.0 in c:\\users\\snipe\\miniforge3\\envs\\miniproyecto3\\lib\\site-packages (from spacy) (3.4.1)\n",
      "Requirement already satisfied: numpy>=1.19.0 in c:\\users\\snipe\\miniforge3\\envs\\miniproyecto3\\lib\\site-packages (from spacy) (2.0.2)\n",
      "Requirement already satisfied: language-data>=1.2 in c:\\users\\snipe\\miniforge3\\envs\\miniproyecto3\\lib\\site-packages (from langcodes<4.0.0,>=3.2.0->spacy) (1.2.0)\n",
      "Requirement already satisfied: annotated-types>=0.6.0 in c:\\users\\snipe\\miniforge3\\envs\\miniproyecto3\\lib\\site-packages (from pydantic!=1.8,!=1.8.1,<3.0.0,>=1.7.4->spacy) (0.7.0)\n",
      "Requirement already satisfied: pydantic-core==2.23.4 in c:\\users\\snipe\\miniforge3\\envs\\miniproyecto3\\lib\\site-packages (from pydantic!=1.8,!=1.8.1,<3.0.0,>=1.7.4->spacy) (2.23.4)\n",
      "Requirement already satisfied: typing-extensions>=4.6.1 in c:\\users\\snipe\\miniforge3\\envs\\miniproyecto3\\lib\\site-packages (from pydantic!=1.8,!=1.8.1,<3.0.0,>=1.7.4->spacy) (4.12.2)\n",
      "Requirement already satisfied: charset-normalizer<4,>=2 in c:\\users\\snipe\\appdata\\roaming\\python\\python312\\site-packages (from requests<3.0.0,>=2.13.0->spacy) (3.3.2)\n",
      "Requirement already satisfied: idna<4,>=2.5 in c:\\users\\snipe\\appdata\\roaming\\python\\python312\\site-packages (from requests<3.0.0,>=2.13.0->spacy) (3.8)\n",
      "Requirement already satisfied: urllib3<3,>=1.21.1 in c:\\users\\snipe\\appdata\\roaming\\python\\python312\\site-packages (from requests<3.0.0,>=2.13.0->spacy) (2.2.2)\n",
      "Requirement already satisfied: certifi>=2017.4.17 in c:\\users\\snipe\\appdata\\roaming\\python\\python312\\site-packages (from requests<3.0.0,>=2.13.0->spacy) (2024.8.30)\n",
      "Requirement already satisfied: blis<1.1.0,>=1.0.0 in c:\\users\\snipe\\miniforge3\\envs\\miniproyecto3\\lib\\site-packages (from thinc<8.4.0,>=8.3.0->spacy) (1.0.1)\n",
      "Requirement already satisfied: confection<1.0.0,>=0.0.1 in c:\\users\\snipe\\miniforge3\\envs\\miniproyecto3\\lib\\site-packages (from thinc<8.4.0,>=8.3.0->spacy) (0.1.5)\n",
      "Requirement already satisfied: colorama in c:\\users\\snipe\\appdata\\roaming\\python\\python312\\site-packages (from tqdm<5.0.0,>=4.38.0->spacy) (0.4.6)\n",
      "Requirement already satisfied: click>=8.0.0 in c:\\users\\snipe\\miniforge3\\envs\\miniproyecto3\\lib\\site-packages (from typer<1.0.0,>=0.3.0->spacy) (8.1.7)\n",
      "Requirement already satisfied: shellingham>=1.3.0 in c:\\users\\snipe\\miniforge3\\envs\\miniproyecto3\\lib\\site-packages (from typer<1.0.0,>=0.3.0->spacy) (1.5.4)\n",
      "Requirement already satisfied: rich>=10.11.0 in c:\\users\\snipe\\miniforge3\\envs\\miniproyecto3\\lib\\site-packages (from typer<1.0.0,>=0.3.0->spacy) (13.9.3)\n",
      "Requirement already satisfied: cloudpathlib<1.0.0,>=0.7.0 in c:\\users\\snipe\\miniforge3\\envs\\miniproyecto3\\lib\\site-packages (from weasel<0.5.0,>=0.1.0->spacy) (0.20.0)\n",
      "Requirement already satisfied: smart-open<8.0.0,>=5.2.1 in c:\\users\\snipe\\miniforge3\\envs\\miniproyecto3\\lib\\site-packages (from weasel<0.5.0,>=0.1.0->spacy) (7.0.5)\n",
      "Requirement already satisfied: MarkupSafe>=2.0 in c:\\users\\snipe\\appdata\\roaming\\python\\python312\\site-packages (from jinja2->spacy) (2.1.5)\n",
      "Requirement already satisfied: marisa-trie>=0.7.7 in c:\\users\\snipe\\miniforge3\\envs\\miniproyecto3\\lib\\site-packages (from language-data>=1.2->langcodes<4.0.0,>=3.2.0->spacy) (1.2.1)\n",
      "Requirement already satisfied: markdown-it-py>=2.2.0 in c:\\users\\snipe\\miniforge3\\envs\\miniproyecto3\\lib\\site-packages (from rich>=10.11.0->typer<1.0.0,>=0.3.0->spacy) (3.0.0)\n",
      "Requirement already satisfied: pygments<3.0.0,>=2.13.0 in c:\\users\\snipe\\appdata\\roaming\\python\\python312\\site-packages (from rich>=10.11.0->typer<1.0.0,>=0.3.0->spacy) (2.18.0)\n",
      "Requirement already satisfied: wrapt in c:\\users\\snipe\\miniforge3\\envs\\miniproyecto3\\lib\\site-packages (from smart-open<8.0.0,>=5.2.1->weasel<0.5.0,>=0.1.0->spacy) (1.16.0)\n",
      "Requirement already satisfied: mdurl~=0.1 in c:\\users\\snipe\\miniforge3\\envs\\miniproyecto3\\lib\\site-packages (from markdown-it-py>=2.2.0->rich>=10.11.0->typer<1.0.0,>=0.3.0->spacy) (0.1.2)\n",
      "Note: you may need to restart the kernel to use updated packages.\n",
      "Collecting en-core-web-sm==3.8.0\n",
      "  Downloading https://github.com/explosion/spacy-models/releases/download/en_core_web_sm-3.8.0/en_core_web_sm-3.8.0-py3-none-any.whl (12.8 MB)\n",
      "     ---------------------------------------- 0.0/12.8 MB ? eta -:--:--\n",
      "     ---------------------------- ----------- 9.2/12.8 MB 57.1 MB/s eta 0:00:01\n",
      "     --------------------------------------- 12.8/12.8 MB 53.6 MB/s eta 0:00:00\n",
      "\u001b[38;5;2m✔ Download and installation successful\u001b[0m\n",
      "You can now load the package via spacy.load('en_core_web_sm')\n"
     ]
    }
   ],
   "source": [
    "%pip install spacy\n",
    "!python -m spacy download en_core_web_sm"
   ]
  },
  {
   "cell_type": "markdown",
   "metadata": {},
   "source": [
    "Tokenización  \n",
    "Ademas se quitan espacios vacios y caracteres molestos como \",\" y \".\""
   ]
  },
  {
   "cell_type": "code",
   "execution_count": 24,
   "metadata": {},
   "outputs": [],
   "source": [
    "import spacy\n",
    "\n",
    "nlp = spacy.load(\"en_core_web_sm\")\n",
    "\n",
    "df['reviewDescription'] = df['reviewDescription'].fillna('')\n",
    "\n",
    "df['preprocessedReview'] = ''\n",
    "\n",
    "df['preprocessedReview'] = df['reviewDescription'].apply(lambda doc: [token.text for token in nlp(doc) if not token.is_punct and not token.is_space and token.text not in ['\"', \"'\"]])"
   ]
  },
  {
   "cell_type": "markdown",
   "metadata": {},
   "source": [
    "Quitar Stop Words"
   ]
  },
  {
   "cell_type": "code",
   "execution_count": 25,
   "metadata": {},
   "outputs": [],
   "source": [
    "df['preprocessedReview'] = df['preprocessedReview'].apply(lambda tokens: [word for word in tokens if not nlp.vocab[word].is_stop])"
   ]
  },
  {
   "cell_type": "markdown",
   "metadata": {},
   "source": [
    "Lematización"
   ]
  },
  {
   "cell_type": "code",
   "execution_count": 31,
   "metadata": {},
   "outputs": [],
   "source": [
    "df['preprocessedReview'] = df['preprocessedReview'].apply(lambda tokens: [token.lemma_ for token in nlp(\" \".join(tokens))])"
   ]
  },
  {
   "cell_type": "code",
   "execution_count": 32,
   "metadata": {},
   "outputs": [],
   "source": [
    "df.to_csv(\"../data/a.csv\",index=False)"
   ]
  },
  {
   "cell_type": "markdown",
   "metadata": {},
   "source": [
    "Las técnicas aplicadas ayudan a limpiar y preparar el texto de la siguiente manera:  \n",
    "**Tokenización**: Divide el texto en palabras individuales (tokens), facilitando el análisis palabra por palabra. Esto permite procesar el texto de manera más estructurada.  \n",
    "**Eliminación de Stop Words**: Remueve palabras comunes que no aportan mucho significado (como \"the\", \"and\", etc.), permitiendo que el análisis se concentre en palabras más relevantes.  \n",
    "**Lematización**: Reduce las palabras a su forma base o raíz, eliminando variaciones gramaticales (por ejemplo, \"running\" se convierte en \"run\"). Esto ayuda a unificar conceptos y mejora la precisión en el análisis.  \n",
    "Estas técnicas son esenciales para eliminar ruido en el texto y convertirlo en una forma más adecuada para el análisis posterior, ademas de reducir el tiempo de lectura y ejecucion del codigo.\n"
   ]
  },
  {
   "cell_type": "markdown",
   "metadata": {},
   "source": [
    "#### Parte 3: Representación del Texto con Bag of Words"
   ]
  },
  {
   "cell_type": "markdown",
   "metadata": {},
   "source": [
    "**Bag of Words (BoW)**"
   ]
  },
  {
   "cell_type": "markdown",
   "metadata": {},
   "source": [
    "Instalar scikit-learn"
   ]
  },
  {
   "cell_type": "code",
   "execution_count": 34,
   "metadata": {},
   "outputs": [
    {
     "name": "stdout",
     "output_type": "stream",
     "text": [
      "Collecting scikit-learnNote: you may need to restart the kernel to use updated packages.\n",
      "\n",
      "  Downloading scikit_learn-1.5.2-cp312-cp312-win_amd64.whl.metadata (13 kB)\n",
      "Requirement already satisfied: numpy>=1.19.5 in c:\\users\\snipe\\miniforge3\\envs\\miniproyecto3\\lib\\site-packages (from scikit-learn) (2.0.2)\n",
      "Collecting scipy>=1.6.0 (from scikit-learn)\n",
      "  Downloading scipy-1.14.1-cp312-cp312-win_amd64.whl.metadata (60 kB)\n",
      "Requirement already satisfied: joblib>=1.2.0 in c:\\users\\snipe\\miniforge3\\envs\\miniproyecto3\\lib\\site-packages (from scikit-learn) (1.4.2)\n",
      "Collecting threadpoolctl>=3.1.0 (from scikit-learn)\n",
      "  Downloading threadpoolctl-3.5.0-py3-none-any.whl.metadata (13 kB)\n",
      "Downloading scikit_learn-1.5.2-cp312-cp312-win_amd64.whl (11.0 MB)\n",
      "   ---------------------------------------- 0.0/11.0 MB ? eta -:--:--\n",
      "   --------------------------- ------------ 7.6/11.0 MB 42.9 MB/s eta 0:00:01\n",
      "   ---------------------------------------- 11.0/11.0 MB 42.9 MB/s eta 0:00:00\n",
      "Downloading scipy-1.14.1-cp312-cp312-win_amd64.whl (44.5 MB)\n",
      "   ---------------------------------------- 0.0/44.5 MB ? eta -:--:--\n",
      "   ------ --------------------------------- 6.8/44.5 MB 38.1 MB/s eta 0:00:01\n",
      "   ------------- -------------------------- 14.7/44.5 MB 35.5 MB/s eta 0:00:01\n",
      "   -------------------- ------------------- 23.3/44.5 MB 38.8 MB/s eta 0:00:01\n",
      "   ----------------------------- ---------- 32.5/44.5 MB 40.5 MB/s eta 0:00:01\n",
      "   ------------------------------------- -- 41.9/44.5 MB 41.1 MB/s eta 0:00:01\n",
      "   ---------------------------------------- 44.5/44.5 MB 39.3 MB/s eta 0:00:00\n",
      "Downloading threadpoolctl-3.5.0-py3-none-any.whl (18 kB)\n",
      "Installing collected packages: threadpoolctl, scipy, scikit-learn\n",
      "Successfully installed scikit-learn-1.5.2 scipy-1.14.1 threadpoolctl-3.5.0\n"
     ]
    }
   ],
   "source": [
    "%pip install scikit-learn"
   ]
  },
  {
   "cell_type": "code",
   "execution_count": 47,
   "metadata": {},
   "outputs": [],
   "source": [
    "from sklearn.feature_extraction.text import CountVectorizer\n",
    "\n",
    "df['preprocessedReviewJoined'] = df['preprocessedReview'].apply(lambda tokens: ' '.join(tokens))\n",
    "\n",
    "vectorizer = CountVectorizer()\n",
    "\n",
    "X_bow = vectorizer.fit_transform(df['preprocessedReviewJoined'])\n",
    "\n",
    "bow_df = pd.DataFrame(X_bow.toarray(), columns=vectorizer.get_feature_names_out())\n"
   ]
  },
  {
   "cell_type": "code",
   "execution_count": 48,
   "metadata": {},
   "outputs": [],
   "source": [
    "bow_df.to_csv(\"../data/bow.csv\",index=False)"
   ]
  },
  {
   "cell_type": "markdown",
   "metadata": {},
   "source": [
    "Bag of Words (BoW) basicamente convirtio las reseñas preprocesadas (columna preprocessedReview) en vectores numéricos. Cada reseña es transformada en una fila de la matriz, donde cada columna representa una palabra del vocabulario total de las reseñas. El valor en cada celda indica cuántas veces aparece esa palabra en la reseña específica.\n",
    "BoW es importante porque convierte texto en una representación numérica, es simple porque solo cuenta la frecuencia de palabras sin considerar el orden, y es eficaz al crear una matriz numérica fácil de interpretar y procesar por algoritmos de machine learning."
   ]
  },
  {
   "cell_type": "markdown",
   "metadata": {},
   "source": [
    "#### Parte 4: Implementación de Clasificadores"
   ]
  },
  {
   "cell_type": "markdown",
   "metadata": {},
   "source": [
    "**Clasificador Naive Bayes**"
   ]
  },
  {
   "cell_type": "code",
   "execution_count": 49,
   "metadata": {},
   "outputs": [
    {
     "name": "stdout",
     "output_type": "stream",
     "text": [
      "Precisión del modelo Naive Bayes: 0.86\n"
     ]
    }
   ],
   "source": [
    "from sklearn.naive_bayes import MultinomialNB\n",
    "from sklearn.model_selection import train_test_split\n",
    "from sklearn.metrics import accuracy_score\n",
    "\n",
    "X_train, X_test, y_train, y_test = train_test_split(X_bow, df['ratingPositive'], test_size=0.2, random_state=42)\n",
    "\n",
    "nb_classifier = MultinomialNB()\n",
    "\n",
    "nb_classifier.fit(X_train, y_train)\n",
    "\n",
    "y_pred = nb_classifier.predict(X_test)\n"
   ]
  },
  {
   "cell_type": "markdown",
   "metadata": {},
   "source": [
    "Evaluar rendimiento"
   ]
  },
  {
   "cell_type": "code",
   "execution_count": 50,
   "metadata": {},
   "outputs": [
    {
     "name": "stdout",
     "output_type": "stream",
     "text": [
      "              precision    recall  f1-score   support\n",
      "\n",
      "    Negative       0.81      0.70      0.75       183\n",
      "    Positive       0.88      0.93      0.90       430\n",
      "\n",
      "    accuracy                           0.86       613\n",
      "   macro avg       0.84      0.81      0.83       613\n",
      "weighted avg       0.86      0.86      0.86       613\n",
      "\n"
     ]
    }
   ],
   "source": [
    "from sklearn.metrics import classification_report\n",
    "\n",
    "report = classification_report(y_test, y_pred, target_names=['Negative', 'Positive'])\n",
    "\n",
    "print(report)\n"
   ]
  },
  {
   "cell_type": "markdown",
   "metadata": {},
   "source": [
    "Al parecer el modelo es más preciso al predecir reseñas positivas (88%) que negativas (81%). por otra paerte tiene un buen recall de 93% para las reseñas positivas, a diferencia de un recall menor para las reseñas negativas (70%).\n",
    "El modelo tiene una precisión general del 86% seun el accuracy.En general, el modelo tiene un mejor desempeño en las reseñas positivas que en las negativas. Esto puede deberse a un mayor número de reseñas positivas en el conjunto de datos (430 frente a 183)."
   ]
  },
  {
   "cell_type": "markdown",
   "metadata": {},
   "source": [
    "**Regresión Logística**"
   ]
  },
  {
   "cell_type": "code",
   "execution_count": 51,
   "metadata": {},
   "outputs": [
    {
     "name": "stdout",
     "output_type": "stream",
     "text": [
      "              precision    recall  f1-score   support\n",
      "\n",
      "    Negative       0.86      0.66      0.75       281\n",
      "    Positive       0.86      0.95      0.91       638\n",
      "\n",
      "    accuracy                           0.86       919\n",
      "   macro avg       0.86      0.81      0.83       919\n",
      "weighted avg       0.86      0.86      0.86       919\n",
      "\n"
     ]
    }
   ],
   "source": [
    "from sklearn.linear_model import LogisticRegression\n",
    "from sklearn.model_selection import train_test_split\n",
    "from sklearn.metrics import classification_report\n",
    "\n",
    "# Usar la misma matriz de características (BoW) y las etiquetas\n",
    "X = X_bow  # Matriz BoW\n",
    "y = df['ratingPositive']  # Etiquetas de la columna 'ratingPositive'\n",
    "\n",
    "# Dividir los datos en conjunto de entrenamiento y prueba (70% entrenamiento, 30% prueba)\n",
    "X_train, X_test, y_train, y_test = train_test_split(X, y, test_size=0.3, random_state=42)\n",
    "\n",
    "# Crear un modelo de Regresión Logística\n",
    "logistic_model = LogisticRegression(max_iter=1000)\n",
    "\n",
    "# Entrenar el modelo con los datos de entrenamiento\n",
    "logistic_model.fit(X_train, y_train)\n",
    "\n",
    "# Hacer predicciones en el conjunto de prueba\n",
    "y_pred = logistic_model.predict(X_test)\n",
    "\n",
    "# Evaluar el rendimiento del modelo utilizando el informe de clasificación\n",
    "print(classification_report(y_test, y_pred))"
   ]
  },
  {
   "cell_type": "markdown",
   "metadata": {},
   "source": [
    "El modelo de Regresión Logística muestra un rendimiento similar al de Naive Bayes, con una precisión del 86% para ambas clases, positivas y negativas. Sin embargo, tiene un mejor recall para las reseñas positivas (95%) en comparación con las negativas (66%), lo que sugiere que identifica mejor las reseñas positivas. El F1-score también refleja un mejor balance para las reseñas positivas (91%) frente al 75% para las negativas. En general, el modelo tiene una precisión global del 86% y, al igual que Naive Bayes, se desempeña mejor en la clasificación de reseñas positivas, lo que probablemente se deba a la mayor cantidad de ejemplos positivos (638 frente a 281 negativos) en el conjunto de datos."
   ]
  },
  {
   "cell_type": "markdown",
   "metadata": {},
   "source": [
    "#### Parte 5: Análisis y Conclusión"
   ]
  },
  {
   "cell_type": "markdown",
   "metadata": {},
   "source": [
    "**Análisis de Resultados**"
   ]
  },
  {
   "cell_type": "markdown",
   "metadata": {},
   "source": [
    "Comparando los resultados de Naive Bayes y Regresión Logística:  \n",
    "\n",
    "**Precisión**:  \n",
    "Ambos modelos tienen precisión similar. En el caso de los valores negativos, el modelo de regresión logística tiene una precisión ligeramente mejor (0.86 frente a 0.81).  \n",
    "\n",
    "Para los valores positivos, ambos modelos tienen la misma precisión (0.86-0.88).  \n",
    "\n",
    "**Recall**:  \n",
    "En la categoría negativa, Naive Bayes tiene mejor recall (0.70 frente a 0.66).  \n",
    "\n",
    "Para los valores positivos, la regresión logística tiene mejor recall (0.95 frente a 0.93), lo que significa que identifica más correctamente las instancias positivas.  \n",
    "\n",
    "**F1-Score**:  \n",
    "El F1-Score, que combina la precisión y el recall, es ligeramente mejor para la regresión logística en los valores positivos (0.91 frente a 0.90). Por otra parte, en los valores negativos, tienen igual desempeño (0.75 frente a 0.75).  \n",
    "\n",
    "**Conclusión**:  \n",
    "Naive Bayes es más equilibrado en identificar tanto negativos como positivos, aunque tiene un menor recall para positivos.\n",
    "Regresión Logística sobresale en identificar correctamente los positivos con un recall más alto, pero pierde algo de precisión en la clase negativa.  \n",
    "\n",
    "En general, Regresión Logística parece ser mejor para maximizar la detección de positivos, mientras que Naive Bayes es más equilibrado en ambas clases."
   ]
  },
  {
   "cell_type": "markdown",
   "metadata": {},
   "source": [
    "**Métodos de mejora sugeridos**\n",
    "\n",
    "Mejor Preprocesamiento  \n",
    "\n",
    "1. Normalización o Escalado: Los modelos como la regresión logística suelen beneficiarse de la normalización de los datos. Escalar las características podría mejorar su desempeño.  \n",
    "2. Textos Limpios y Consistentes: Considerar el uso de técnicas más avanzadas para limpiar los textos, como eliminar palabras muy comunes y no informativas.  \n",
    "3. N-gramas: Usar n-gramas (combinaciones de palabras) en lugar de palabras individuales podría capturar mejor el contexto en las reseñas, lo que puede mejorar el modelo.  \n",
    "\n",
    "Mejoras en el Modelo:\n",
    "\n",
    "1. Hiperparámetros: Ajustar hiperparámetros, como la regularización en la regresión logística o suavizado en Naive Bayes, podría mejorar los resultados.\n",
    "2. Ensamble de Modelos: Se podría explorar un ensamble de ambos modelos (Naive Bayes + Regresión Logística) para aprovechar las fortalezas de cada uno.\n",
    "3. Modelos más avanzados: Explorar otros algoritmos de clasificación, como máquinas de soporte vectorial (SVM) o redes neuronales, podría mejorar el desempeño.\n"
   ]
  }
 ],
 "metadata": {
  "kernelspec": {
   "display_name": "MiniProyecto3",
   "language": "python",
   "name": "python3"
  },
  "language_info": {
   "codemirror_mode": {
    "name": "ipython",
    "version": 3
   },
   "file_extension": ".py",
   "mimetype": "text/x-python",
   "name": "python",
   "nbconvert_exporter": "python",
   "pygments_lexer": "ipython3",
   "version": "3.12.0"
  }
 },
 "nbformat": 4,
 "nbformat_minor": 2
}
